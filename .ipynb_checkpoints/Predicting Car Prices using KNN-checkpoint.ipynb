{
 "cells": [
  {
   "cell_type": "markdown",
   "id": "2f467c70",
   "metadata": {},
   "source": [
    "In this project I am using a k-nearest neighbors algorithm to predict a car's market price using its attributes.\n",
    "\n",
    "# Dataset used in this project\n",
    "I will be using [UCI's Automobile Data Set](https://archive.ics.uci.edu/ml/datasets/automobile). This data contains car data from the 1985 Ward's Automotive Yearbook and can be downloaded [here](https://archive.ics.uci.edu/ml/machine-learning-databases/autos/imports-85.data).\n",
    "\n",
    "##  Variables in the dataset\n",
    "\n",
    "Variable|Meaning|Type\n",
    "-|-|-\n",
    "symboling|Risk symbol (A value of +3 indicates that the auto is risky, -3 that it is probably pretty safe.)|categorical(numeric)\n",
    "normalized-losses|Normalized losses in use as compared to other cars.|continuous\n",
    "make|make of car|categorical(string)\n",
    "fuel-type|diesel or gas|categorical(string)\n",
    "aspiration|std or turbo|categorical(string)\n",
    "num-of-doors|four or two|categorical(string)\n",
    "body-style|hardtop, wagon, sedan, hatchback, convertible|categorical(string)\n",
    "drive-wheels|4wd, fwd, rwd|categorical(string)\n",
    "engine-location|front or rear|categorical(string)\n",
    "wheel-base|horizontal distance between the centers of the front and rear wheels|continuous\n",
    "length|car length|continuous\n",
    "width|car width|continuous\n",
    "height|car height|continuous\n",
    "curb-weight|total mass of a vehicle with standard equipment and all necessary operating consumables such as motor oil, transmission oil, brake fluid, coolant, air conditioning refrigerant, and sometimes a full tank of fuel, while not loaded with either passengers or cargo.|continuous\n",
    "engine-type|dohc, dohcv, l, ohc, ohcf, ohcv, rotor.|categorical(string)\n",
    "num-of-cylinders|eight, five, four, six, three, twelve, two.|categorical(string)\n",
    "engine-size|size of car engine|continuous\n",
    "fuel-system|1bbl, 2bbl, 4bbl, idi, mfi, mpfi, spdi, spfi.|categorical(string)\n",
    "bore|diameter of each cylinder|continuous\n",
    "stroke|stroke of engine|continuous\n",
    "compression-ratio|compression ratio of engine|continuous\n",
    "horsepower|car horsepower|continuous\n",
    "peak-rpm|peak revolutions per minute|continuous\n",
    "city-mpg|miles per gallon under city conditions|continuous\n",
    "highway-mpg|miles per gallon on an open stretch of road|continuous\n",
    "price|car price|continuous"
   ]
  },
  {
   "cell_type": "markdown",
   "id": "37ef1946",
   "metadata": {},
   "source": [
    "# Reading in the data"
   ]
  },
  {
   "cell_type": "code",
   "execution_count": 1,
   "id": "caf1b559",
   "metadata": {},
   "outputs": [
    {
     "data": {
      "text/html": [
       "<div>\n",
       "<style scoped>\n",
       "    .dataframe tbody tr th:only-of-type {\n",
       "        vertical-align: middle;\n",
       "    }\n",
       "\n",
       "    .dataframe tbody tr th {\n",
       "        vertical-align: top;\n",
       "    }\n",
       "\n",
       "    .dataframe thead th {\n",
       "        text-align: right;\n",
       "    }\n",
       "</style>\n",
       "<table border=\"1\" class=\"dataframe\">\n",
       "  <thead>\n",
       "    <tr style=\"text-align: right;\">\n",
       "      <th></th>\n",
       "      <th>symboling</th>\n",
       "      <th>normalized-losses</th>\n",
       "      <th>make</th>\n",
       "      <th>fuel-type</th>\n",
       "      <th>aspiration</th>\n",
       "      <th>num-of-doors</th>\n",
       "      <th>body-style</th>\n",
       "      <th>drive-wheels</th>\n",
       "      <th>engine-location</th>\n",
       "      <th>wheel-base</th>\n",
       "      <th>...</th>\n",
       "      <th>engine-size</th>\n",
       "      <th>fuel-system</th>\n",
       "      <th>bore</th>\n",
       "      <th>stroke</th>\n",
       "      <th>compression-ratio</th>\n",
       "      <th>horsepower</th>\n",
       "      <th>peak-rpm</th>\n",
       "      <th>city-mpg</th>\n",
       "      <th>highway-mpg</th>\n",
       "      <th>price</th>\n",
       "    </tr>\n",
       "  </thead>\n",
       "  <tbody>\n",
       "    <tr>\n",
       "      <th>0</th>\n",
       "      <td>3</td>\n",
       "      <td>?</td>\n",
       "      <td>alfa-romero</td>\n",
       "      <td>gas</td>\n",
       "      <td>std</td>\n",
       "      <td>two</td>\n",
       "      <td>convertible</td>\n",
       "      <td>rwd</td>\n",
       "      <td>front</td>\n",
       "      <td>88.6</td>\n",
       "      <td>...</td>\n",
       "      <td>130</td>\n",
       "      <td>mpfi</td>\n",
       "      <td>3.47</td>\n",
       "      <td>2.68</td>\n",
       "      <td>9.0</td>\n",
       "      <td>111</td>\n",
       "      <td>5000</td>\n",
       "      <td>21</td>\n",
       "      <td>27</td>\n",
       "      <td>13495</td>\n",
       "    </tr>\n",
       "    <tr>\n",
       "      <th>1</th>\n",
       "      <td>3</td>\n",
       "      <td>?</td>\n",
       "      <td>alfa-romero</td>\n",
       "      <td>gas</td>\n",
       "      <td>std</td>\n",
       "      <td>two</td>\n",
       "      <td>convertible</td>\n",
       "      <td>rwd</td>\n",
       "      <td>front</td>\n",
       "      <td>88.6</td>\n",
       "      <td>...</td>\n",
       "      <td>130</td>\n",
       "      <td>mpfi</td>\n",
       "      <td>3.47</td>\n",
       "      <td>2.68</td>\n",
       "      <td>9.0</td>\n",
       "      <td>111</td>\n",
       "      <td>5000</td>\n",
       "      <td>21</td>\n",
       "      <td>27</td>\n",
       "      <td>16500</td>\n",
       "    </tr>\n",
       "    <tr>\n",
       "      <th>2</th>\n",
       "      <td>1</td>\n",
       "      <td>?</td>\n",
       "      <td>alfa-romero</td>\n",
       "      <td>gas</td>\n",
       "      <td>std</td>\n",
       "      <td>two</td>\n",
       "      <td>hatchback</td>\n",
       "      <td>rwd</td>\n",
       "      <td>front</td>\n",
       "      <td>94.5</td>\n",
       "      <td>...</td>\n",
       "      <td>152</td>\n",
       "      <td>mpfi</td>\n",
       "      <td>2.68</td>\n",
       "      <td>3.47</td>\n",
       "      <td>9.0</td>\n",
       "      <td>154</td>\n",
       "      <td>5000</td>\n",
       "      <td>19</td>\n",
       "      <td>26</td>\n",
       "      <td>16500</td>\n",
       "    </tr>\n",
       "    <tr>\n",
       "      <th>3</th>\n",
       "      <td>2</td>\n",
       "      <td>164</td>\n",
       "      <td>audi</td>\n",
       "      <td>gas</td>\n",
       "      <td>std</td>\n",
       "      <td>four</td>\n",
       "      <td>sedan</td>\n",
       "      <td>fwd</td>\n",
       "      <td>front</td>\n",
       "      <td>99.8</td>\n",
       "      <td>...</td>\n",
       "      <td>109</td>\n",
       "      <td>mpfi</td>\n",
       "      <td>3.19</td>\n",
       "      <td>3.40</td>\n",
       "      <td>10.0</td>\n",
       "      <td>102</td>\n",
       "      <td>5500</td>\n",
       "      <td>24</td>\n",
       "      <td>30</td>\n",
       "      <td>13950</td>\n",
       "    </tr>\n",
       "    <tr>\n",
       "      <th>4</th>\n",
       "      <td>2</td>\n",
       "      <td>164</td>\n",
       "      <td>audi</td>\n",
       "      <td>gas</td>\n",
       "      <td>std</td>\n",
       "      <td>four</td>\n",
       "      <td>sedan</td>\n",
       "      <td>4wd</td>\n",
       "      <td>front</td>\n",
       "      <td>99.4</td>\n",
       "      <td>...</td>\n",
       "      <td>136</td>\n",
       "      <td>mpfi</td>\n",
       "      <td>3.19</td>\n",
       "      <td>3.40</td>\n",
       "      <td>8.0</td>\n",
       "      <td>115</td>\n",
       "      <td>5500</td>\n",
       "      <td>18</td>\n",
       "      <td>22</td>\n",
       "      <td>17450</td>\n",
       "    </tr>\n",
       "  </tbody>\n",
       "</table>\n",
       "<p>5 rows × 26 columns</p>\n",
       "</div>"
      ],
      "text/plain": [
       "   symboling normalized-losses         make fuel-type aspiration num-of-doors  \\\n",
       "0          3                 ?  alfa-romero       gas        std          two   \n",
       "1          3                 ?  alfa-romero       gas        std          two   \n",
       "2          1                 ?  alfa-romero       gas        std          two   \n",
       "3          2               164         audi       gas        std         four   \n",
       "4          2               164         audi       gas        std         four   \n",
       "\n",
       "    body-style drive-wheels engine-location  wheel-base  ...  engine-size  \\\n",
       "0  convertible          rwd           front        88.6  ...          130   \n",
       "1  convertible          rwd           front        88.6  ...          130   \n",
       "2    hatchback          rwd           front        94.5  ...          152   \n",
       "3        sedan          fwd           front        99.8  ...          109   \n",
       "4        sedan          4wd           front        99.4  ...          136   \n",
       "\n",
       "   fuel-system  bore  stroke compression-ratio horsepower  peak-rpm city-mpg  \\\n",
       "0         mpfi  3.47    2.68               9.0        111      5000       21   \n",
       "1         mpfi  3.47    2.68               9.0        111      5000       21   \n",
       "2         mpfi  2.68    3.47               9.0        154      5000       19   \n",
       "3         mpfi  3.19    3.40              10.0        102      5500       24   \n",
       "4         mpfi  3.19    3.40               8.0        115      5500       18   \n",
       "\n",
       "  highway-mpg  price  \n",
       "0          27  13495  \n",
       "1          27  16500  \n",
       "2          26  16500  \n",
       "3          30  13950  \n",
       "4          22  17450  \n",
       "\n",
       "[5 rows x 26 columns]"
      ]
     },
     "execution_count": 1,
     "metadata": {},
     "output_type": "execute_result"
    }
   ],
   "source": [
    "import pandas as pd\n",
    "import numpy as np\n",
    "from sklearn.neighbors import KNeighborsRegressor as knn\n",
    "from sklearn.metrics import mean_squared_error as mse\n",
    "import itertools\n",
    "import matplotlib.pyplot as plt\n",
    "\n",
    "col_names = [\"symboling\", \"normalized-losses\", \"make\", \"fuel-type\", \"aspiration\", \"num-of-doors\", \"body-style\", \"drive-wheels\", \"engine-location\", \"wheel-base\", \"length\", \"width\", \"height\",\n",
    "             \"curb-weight\", \"engine-type\", \"num-of-cylinders\", \"engine-size\", \"fuel-system\", \"bore\", \"stroke\", \"compression-ratio\", \"horsepower\", \"peak-rpm\", \"city-mpg\", \"highway-mpg\", \"price\"]\n",
    "cars = pd.read_csv(\"imports-85.data\", names=col_names)\n",
    "\n",
    "cars.head()"
   ]
  },
  {
   "cell_type": "code",
   "execution_count": 2,
   "id": "bb7d5f7c",
   "metadata": {},
   "outputs": [
    {
     "name": "stdout",
     "output_type": "stream",
     "text": [
      "<class 'pandas.core.frame.DataFrame'>\n",
      "RangeIndex: 205 entries, 0 to 204\n",
      "Data columns (total 26 columns):\n",
      " #   Column             Non-Null Count  Dtype  \n",
      "---  ------             --------------  -----  \n",
      " 0   symboling          205 non-null    int64  \n",
      " 1   normalized-losses  205 non-null    object \n",
      " 2   make               205 non-null    object \n",
      " 3   fuel-type          205 non-null    object \n",
      " 4   aspiration         205 non-null    object \n",
      " 5   num-of-doors       205 non-null    object \n",
      " 6   body-style         205 non-null    object \n",
      " 7   drive-wheels       205 non-null    object \n",
      " 8   engine-location    205 non-null    object \n",
      " 9   wheel-base         205 non-null    float64\n",
      " 10  length             205 non-null    float64\n",
      " 11  width              205 non-null    float64\n",
      " 12  height             205 non-null    float64\n",
      " 13  curb-weight        205 non-null    int64  \n",
      " 14  engine-type        205 non-null    object \n",
      " 15  num-of-cylinders   205 non-null    object \n",
      " 16  engine-size        205 non-null    int64  \n",
      " 17  fuel-system        205 non-null    object \n",
      " 18  bore               205 non-null    object \n",
      " 19  stroke             205 non-null    object \n",
      " 20  compression-ratio  205 non-null    float64\n",
      " 21  horsepower         205 non-null    object \n",
      " 22  peak-rpm           205 non-null    object \n",
      " 23  city-mpg           205 non-null    int64  \n",
      " 24  highway-mpg        205 non-null    int64  \n",
      " 25  price              205 non-null    object \n",
      "dtypes: float64(5), int64(5), object(16)\n",
      "memory usage: 41.8+ KB\n"
     ]
    }
   ],
   "source": [
    "cars.info()"
   ]
  },
  {
   "cell_type": "markdown",
   "id": "825630f2",
   "metadata": {},
   "source": [
    "# Cleaning and Preparing Data"
   ]
  },
  {
   "cell_type": "markdown",
   "id": "15ea8f39",
   "metadata": {},
   "source": [
    "* normalized-losses should be int, but is object dtype. Preview already shows likely reason: Missing data encoded as \"?\".\n",
    "* bore, stroke, horsepower, peak-rpm and price should be should be int or float, but are object dtype. Possible the same issue as normalized-losses\n",
    "* num-of-cylinders can be transformed to int"
   ]
  },
  {
   "cell_type": "code",
   "execution_count": 3,
   "id": "01316aa0",
   "metadata": {},
   "outputs": [
    {
     "name": "stdout",
     "output_type": "stream",
     "text": [
      "Values in bore, alphabetical descending order:\n",
      "?       4\n",
      "3.94    2\n",
      "3.80    2\n",
      "3.78    8\n",
      "3.76    1\n",
      "Name: bore, dtype: int64\n",
      "\n",
      "Values in stroke, in alphabetical descending order:\n",
      "?       4\n",
      "4.17    2\n",
      "3.90    3\n",
      "3.86    4\n",
      "3.64    5\n",
      "Name: stroke, dtype: int64\n",
      "\n",
      "Values in horsepower, in alphabetical descending order:\n",
      "?     2\n",
      "97    5\n",
      "95    7\n",
      "94    2\n",
      "92    4\n",
      "Name: horsepower, dtype: int64\n",
      "\n",
      "Values in peak-rpm, in alphabetical descending order:\n",
      "?       2\n",
      "6600    2\n",
      "6000    9\n",
      "5900    3\n",
      "5800    7\n",
      "Name: peak-rpm, dtype: int64\n",
      "\n",
      "Values in price, in alphabetical descending order:\n",
      "?       4\n",
      "9995    1\n",
      "9989    1\n",
      "9988    1\n",
      "9980    1\n",
      "Name: price, dtype: int64\n"
     ]
    }
   ],
   "source": [
    "print(\"Values in bore, alphabetical descending order:\")\n",
    "print(cars[\"bore\"].value_counts().sort_index(ascending=False).head(5))\n",
    "\n",
    "print(\"\\nValues in stroke, in alphabetical descending order:\")\n",
    "print(cars[\"stroke\"].value_counts().sort_index(ascending=False).head(5))\n",
    "\n",
    "print(\"\\nValues in horsepower, in alphabetical descending order:\")\n",
    "print(cars[\"horsepower\"].value_counts().sort_index(ascending=False).head(5))\n",
    "\n",
    "print(\"\\nValues in peak-rpm, in alphabetical descending order:\")\n",
    "print(cars[\"peak-rpm\"].value_counts().sort_index(ascending=False).head(5))\n",
    "\n",
    "print(\"\\nValues in price, in alphabetical descending order:\")\n",
    "print(cars[\"price\"].value_counts().sort_index(ascending=False).head(5))"
   ]
  },
  {
   "cell_type": "markdown",
   "id": "6cc53fe1",
   "metadata": {},
   "source": [
    "As suspected, missing values are coded as \"?\". Cleaning this up in the next step."
   ]
  },
  {
   "cell_type": "code",
   "execution_count": 4,
   "id": "3cac23fe",
   "metadata": {},
   "outputs": [
    {
     "data": {
      "text/plain": [
       "four      159\n",
       "six        24\n",
       "five       11\n",
       "eight       5\n",
       "two         4\n",
       "three       1\n",
       "twelve      1\n",
       "Name: num-of-cylinders, dtype: int64"
      ]
     },
     "execution_count": 4,
     "metadata": {},
     "output_type": "execute_result"
    }
   ],
   "source": [
    "# Record \"?\" as nan, convert cols to float where appropriate\n",
    "cols_to_clean = [\"normalized-losses\", \"bore\",\n",
    "                 \"stroke\", \"horsepower\", \"peak-rpm\", \"price\"]\n",
    "cars[cols_to_clean] = cars[cols_to_clean].replace(\"?\", np.nan)\n",
    "cars[cols_to_clean] = cars[cols_to_clean].astype(\"float\")\n",
    "\n",
    "# Covnert num-of-cylinders to float\n",
    "cars[\"num-of-cylinders\"].value_counts()"
   ]
  },
  {
   "cell_type": "code",
   "execution_count": 5,
   "id": "8dac2ebb",
   "metadata": {},
   "outputs": [
    {
     "data": {
      "text/plain": [
       "4     159\n",
       "6      24\n",
       "5      11\n",
       "8       5\n",
       "2       4\n",
       "3       1\n",
       "12      1\n",
       "Name: num-of-cylinders, dtype: int64"
      ]
     },
     "execution_count": 5,
     "metadata": {},
     "output_type": "execute_result"
    }
   ],
   "source": [
    "string_to_num_dict = {\"two\": 2, \"three\": 3, \"four\": 4,\n",
    "                      \"five\": 5, \"six\": 6, \"seven\": 7, \"eight\": 8, \"twelve\": 12}\n",
    "\n",
    "cars[\"num-of-cylinders\"].replace(string_to_num_dict, inplace=True)\n",
    "cars[\"num-of-cylinders\"].value_counts()"
   ]
  },
  {
   "cell_type": "markdown",
   "id": "97c709d9",
   "metadata": {},
   "source": [
    "## Inspecting missing data"
   ]
  },
  {
   "cell_type": "code",
   "execution_count": 6,
   "id": "29e0581e",
   "metadata": {
    "scrolled": true
   },
   "outputs": [
    {
     "name": "stdout",
     "output_type": "stream",
     "text": [
      "Missing values for price:\n",
      "4\n"
     ]
    }
   ],
   "source": [
    "print(\"Missing values for price:\")\n",
    "print(cars[\"price\"].isna().sum())"
   ]
  },
  {
   "cell_type": "markdown",
   "id": "fc97e314",
   "metadata": {},
   "source": [
    "Price is the target variable so all rows with missing values for price will be dropped"
   ]
  },
  {
   "cell_type": "code",
   "execution_count": 7,
   "id": "e25ebefc",
   "metadata": {
    "scrolled": true
   },
   "outputs": [
    {
     "name": "stdout",
     "output_type": "stream",
     "text": [
      "Total cases:\n",
      "201\n",
      "\n",
      "Missing values:\n"
     ]
    },
    {
     "data": {
      "text/plain": [
       "normalized-losses    37\n",
       "wheel-base            0\n",
       "length                0\n",
       "width                 0\n",
       "height                0\n",
       "curb-weight           0\n",
       "num-of-cylinders      0\n",
       "engine-size           0\n",
       "bore                  4\n",
       "stroke                4\n",
       "compression-ratio     0\n",
       "horsepower            2\n",
       "peak-rpm              2\n",
       "city-mpg              0\n",
       "highway-mpg           0\n",
       "dtype: int64"
      ]
     },
     "execution_count": 7,
     "metadata": {},
     "output_type": "execute_result"
    }
   ],
   "source": [
    "cars.dropna(subset=[\"price\"], inplace=True)\n",
    "\n",
    "# Get missing values for all continous variables (except for price, see above)\n",
    "pot_features = [\"normalized-losses\", \"wheel-base\", \"length\", \"width\", \"height\", \"curb-weight\", \"num-of-cylinders\",\n",
    "                \"engine-size\", \"bore\", \"stroke\", \"compression-ratio\", \"horsepower\", \"peak-rpm\", \"city-mpg\", \"highway-mpg\"]\n",
    "\n",
    "print(\"Total cases:\")\n",
    "print(str(cars.shape[0])+\"\\n\")\n",
    "\n",
    "print(\"Missing values:\")\n",
    "cars[pot_features].isna().sum()"
   ]
  },
  {
   "cell_type": "markdown",
   "id": "64e39d30",
   "metadata": {},
   "source": [
    "normalized-losses has quite a few missing values (18%) and will therefore be dropped entirely.\n",
    "For the remaining features, mean imputation will be used."
   ]
  },
  {
   "cell_type": "code",
   "execution_count": 8,
   "id": "eb1fcce1",
   "metadata": {},
   "outputs": [],
   "source": [
    "pot_features.remove(\"normalized-losses\")\n",
    "\n",
    "cars[pot_features] = cars[pot_features].fillna(cars[pot_features].mean())"
   ]
  },
  {
   "cell_type": "markdown",
   "id": "c6ddf971",
   "metadata": {},
   "source": [
    "## Normalizing Data"
   ]
  },
  {
   "cell_type": "code",
   "execution_count": 9,
   "id": "52f9ea5c",
   "metadata": {},
   "outputs": [
    {
     "data": {
      "text/html": [
       "<div>\n",
       "<style scoped>\n",
       "    .dataframe tbody tr th:only-of-type {\n",
       "        vertical-align: middle;\n",
       "    }\n",
       "\n",
       "    .dataframe tbody tr th {\n",
       "        vertical-align: top;\n",
       "    }\n",
       "\n",
       "    .dataframe thead th {\n",
       "        text-align: right;\n",
       "    }\n",
       "</style>\n",
       "<table border=\"1\" class=\"dataframe\">\n",
       "  <thead>\n",
       "    <tr style=\"text-align: right;\">\n",
       "      <th></th>\n",
       "      <th>price</th>\n",
       "      <th>wheel-base</th>\n",
       "      <th>length</th>\n",
       "      <th>width</th>\n",
       "      <th>height</th>\n",
       "      <th>curb-weight</th>\n",
       "      <th>num-of-cylinders</th>\n",
       "      <th>engine-size</th>\n",
       "      <th>bore</th>\n",
       "      <th>stroke</th>\n",
       "      <th>compression-ratio</th>\n",
       "      <th>horsepower</th>\n",
       "      <th>peak-rpm</th>\n",
       "      <th>city-mpg</th>\n",
       "      <th>highway-mpg</th>\n",
       "    </tr>\n",
       "  </thead>\n",
       "  <tbody>\n",
       "    <tr>\n",
       "      <th>0</th>\n",
       "      <td>13495.0</td>\n",
       "      <td>-1.680910</td>\n",
       "      <td>-0.438315</td>\n",
       "      <td>-0.851335</td>\n",
       "      <td>-2.029015</td>\n",
       "      <td>-0.014821</td>\n",
       "      <td>-0.342804</td>\n",
       "      <td>0.075201</td>\n",
       "      <td>0.519597</td>\n",
       "      <td>-1.825369</td>\n",
       "      <td>-0.290709</td>\n",
       "      <td>0.203476</td>\n",
       "      <td>-0.245942</td>\n",
       "      <td>-0.650624</td>\n",
       "      <td>-0.540937</td>\n",
       "    </tr>\n",
       "    <tr>\n",
       "      <th>1</th>\n",
       "      <td>16500.0</td>\n",
       "      <td>-1.680910</td>\n",
       "      <td>-0.438315</td>\n",
       "      <td>-0.851335</td>\n",
       "      <td>-2.029015</td>\n",
       "      <td>-0.014821</td>\n",
       "      <td>-0.342804</td>\n",
       "      <td>0.075201</td>\n",
       "      <td>0.519597</td>\n",
       "      <td>-1.825369</td>\n",
       "      <td>-0.290709</td>\n",
       "      <td>0.203476</td>\n",
       "      <td>-0.245942</td>\n",
       "      <td>-0.650624</td>\n",
       "      <td>-0.540937</td>\n",
       "    </tr>\n",
       "    <tr>\n",
       "      <th>2</th>\n",
       "      <td>16500.0</td>\n",
       "      <td>-0.708334</td>\n",
       "      <td>-0.243544</td>\n",
       "      <td>-0.185134</td>\n",
       "      <td>-0.558319</td>\n",
       "      <td>0.516789</td>\n",
       "      <td>1.544965</td>\n",
       "      <td>0.604724</td>\n",
       "      <td>-2.427374</td>\n",
       "      <td>0.674254</td>\n",
       "      <td>-0.290709</td>\n",
       "      <td>1.354267</td>\n",
       "      <td>-0.245942</td>\n",
       "      <td>-0.961995</td>\n",
       "      <td>-0.687669</td>\n",
       "    </tr>\n",
       "    <tr>\n",
       "      <th>3</th>\n",
       "      <td>13950.0</td>\n",
       "      <td>0.165335</td>\n",
       "      <td>0.194690</td>\n",
       "      <td>0.147966</td>\n",
       "      <td>0.217881</td>\n",
       "      <td>-0.422710</td>\n",
       "      <td>-0.342804</td>\n",
       "      <td>-0.430252</td>\n",
       "      <td>-0.524899</td>\n",
       "      <td>0.452769</td>\n",
       "      <td>-0.041019</td>\n",
       "      <td>-0.037387</td>\n",
       "      <td>0.799836</td>\n",
       "      <td>-0.183569</td>\n",
       "      <td>-0.100741</td>\n",
       "    </tr>\n",
       "    <tr>\n",
       "      <th>4</th>\n",
       "      <td>17450.0</td>\n",
       "      <td>0.099398</td>\n",
       "      <td>0.194690</td>\n",
       "      <td>0.243137</td>\n",
       "      <td>0.217881</td>\n",
       "      <td>0.518722</td>\n",
       "      <td>0.601081</td>\n",
       "      <td>0.219617</td>\n",
       "      <td>-0.524899</td>\n",
       "      <td>0.452769</td>\n",
       "      <td>-0.540399</td>\n",
       "      <td>0.310527</td>\n",
       "      <td>0.799836</td>\n",
       "      <td>-1.117680</td>\n",
       "      <td>-1.274597</td>\n",
       "    </tr>\n",
       "    <tr>\n",
       "      <th>...</th>\n",
       "      <td>...</td>\n",
       "      <td>...</td>\n",
       "      <td>...</td>\n",
       "      <td>...</td>\n",
       "      <td>...</td>\n",
       "      <td>...</td>\n",
       "      <td>...</td>\n",
       "      <td>...</td>\n",
       "      <td>...</td>\n",
       "      <td>...</td>\n",
       "      <td>...</td>\n",
       "      <td>...</td>\n",
       "      <td>...</td>\n",
       "      <td>...</td>\n",
       "      <td>...</td>\n",
       "    </tr>\n",
       "    <tr>\n",
       "      <th>200</th>\n",
       "      <td>16845.0</td>\n",
       "      <td>1.698379</td>\n",
       "      <td>1.184775</td>\n",
       "      <td>1.432780</td>\n",
       "      <td>0.708112</td>\n",
       "      <td>0.766162</td>\n",
       "      <td>-0.342804</td>\n",
       "      <td>0.339963</td>\n",
       "      <td>1.676004</td>\n",
       "      <td>-0.338251</td>\n",
       "      <td>-0.165864</td>\n",
       "      <td>0.283764</td>\n",
       "      <td>0.590680</td>\n",
       "      <td>-0.339254</td>\n",
       "      <td>-0.394205</td>\n",
       "    </tr>\n",
       "    <tr>\n",
       "      <th>201</th>\n",
       "      <td>19045.0</td>\n",
       "      <td>1.698379</td>\n",
       "      <td>1.184775</td>\n",
       "      <td>1.385194</td>\n",
       "      <td>0.708112</td>\n",
       "      <td>0.953676</td>\n",
       "      <td>-0.342804</td>\n",
       "      <td>0.339963</td>\n",
       "      <td>1.676004</td>\n",
       "      <td>-0.338251</td>\n",
       "      <td>-0.365616</td>\n",
       "      <td>1.514843</td>\n",
       "      <td>0.381525</td>\n",
       "      <td>-0.961995</td>\n",
       "      <td>-0.834401</td>\n",
       "    </tr>\n",
       "    <tr>\n",
       "      <th>202</th>\n",
       "      <td>21485.0</td>\n",
       "      <td>1.698379</td>\n",
       "      <td>1.184775</td>\n",
       "      <td>1.432780</td>\n",
       "      <td>0.708112</td>\n",
       "      <td>0.882150</td>\n",
       "      <td>1.544965</td>\n",
       "      <td>1.110178</td>\n",
       "      <td>0.929935</td>\n",
       "      <td>-1.224194</td>\n",
       "      <td>-0.340647</td>\n",
       "      <td>0.819016</td>\n",
       "      <td>0.799836</td>\n",
       "      <td>-1.117680</td>\n",
       "      <td>-1.127865</td>\n",
       "    </tr>\n",
       "    <tr>\n",
       "      <th>203</th>\n",
       "      <td>22470.0</td>\n",
       "      <td>1.698379</td>\n",
       "      <td>1.184775</td>\n",
       "      <td>1.432780</td>\n",
       "      <td>0.708112</td>\n",
       "      <td>1.278441</td>\n",
       "      <td>1.544965</td>\n",
       "      <td>0.436240</td>\n",
       "      <td>-1.196361</td>\n",
       "      <td>0.452769</td>\n",
       "      <td>3.204952</td>\n",
       "      <td>0.069663</td>\n",
       "      <td>-0.664253</td>\n",
       "      <td>0.127801</td>\n",
       "      <td>-0.540937</td>\n",
       "    </tr>\n",
       "    <tr>\n",
       "      <th>204</th>\n",
       "      <td>22625.0</td>\n",
       "      <td>1.698379</td>\n",
       "      <td>1.184775</td>\n",
       "      <td>1.432780</td>\n",
       "      <td>0.708112</td>\n",
       "      <td>0.978806</td>\n",
       "      <td>-0.342804</td>\n",
       "      <td>0.339963</td>\n",
       "      <td>1.676004</td>\n",
       "      <td>-0.338251</td>\n",
       "      <td>-0.165864</td>\n",
       "      <td>0.283764</td>\n",
       "      <td>0.590680</td>\n",
       "      <td>-0.961995</td>\n",
       "      <td>-0.834401</td>\n",
       "    </tr>\n",
       "  </tbody>\n",
       "</table>\n",
       "<p>201 rows × 15 columns</p>\n",
       "</div>"
      ],
      "text/plain": [
       "       price  wheel-base    length     width    height  curb-weight  \\\n",
       "0    13495.0   -1.680910 -0.438315 -0.851335 -2.029015    -0.014821   \n",
       "1    16500.0   -1.680910 -0.438315 -0.851335 -2.029015    -0.014821   \n",
       "2    16500.0   -0.708334 -0.243544 -0.185134 -0.558319     0.516789   \n",
       "3    13950.0    0.165335  0.194690  0.147966  0.217881    -0.422710   \n",
       "4    17450.0    0.099398  0.194690  0.243137  0.217881     0.518722   \n",
       "..       ...         ...       ...       ...       ...          ...   \n",
       "200  16845.0    1.698379  1.184775  1.432780  0.708112     0.766162   \n",
       "201  19045.0    1.698379  1.184775  1.385194  0.708112     0.953676   \n",
       "202  21485.0    1.698379  1.184775  1.432780  0.708112     0.882150   \n",
       "203  22470.0    1.698379  1.184775  1.432780  0.708112     1.278441   \n",
       "204  22625.0    1.698379  1.184775  1.432780  0.708112     0.978806   \n",
       "\n",
       "     num-of-cylinders  engine-size      bore    stroke  compression-ratio  \\\n",
       "0           -0.342804     0.075201  0.519597 -1.825369          -0.290709   \n",
       "1           -0.342804     0.075201  0.519597 -1.825369          -0.290709   \n",
       "2            1.544965     0.604724 -2.427374  0.674254          -0.290709   \n",
       "3           -0.342804    -0.430252 -0.524899  0.452769          -0.041019   \n",
       "4            0.601081     0.219617 -0.524899  0.452769          -0.540399   \n",
       "..                ...          ...       ...       ...                ...   \n",
       "200         -0.342804     0.339963  1.676004 -0.338251          -0.165864   \n",
       "201         -0.342804     0.339963  1.676004 -0.338251          -0.365616   \n",
       "202          1.544965     1.110178  0.929935 -1.224194          -0.340647   \n",
       "203          1.544965     0.436240 -1.196361  0.452769           3.204952   \n",
       "204         -0.342804     0.339963  1.676004 -0.338251          -0.165864   \n",
       "\n",
       "     horsepower  peak-rpm  city-mpg  highway-mpg  \n",
       "0      0.203476 -0.245942 -0.650624    -0.540937  \n",
       "1      0.203476 -0.245942 -0.650624    -0.540937  \n",
       "2      1.354267 -0.245942 -0.961995    -0.687669  \n",
       "3     -0.037387  0.799836 -0.183569    -0.100741  \n",
       "4      0.310527  0.799836 -1.117680    -1.274597  \n",
       "..          ...       ...       ...          ...  \n",
       "200    0.283764  0.590680 -0.339254    -0.394205  \n",
       "201    1.514843  0.381525 -0.961995    -0.834401  \n",
       "202    0.819016  0.799836 -1.117680    -1.127865  \n",
       "203    0.069663 -0.664253  0.127801    -0.540937  \n",
       "204    0.283764  0.590680 -0.961995    -0.834401  \n",
       "\n",
       "[201 rows x 15 columns]"
      ]
     },
     "execution_count": 9,
     "metadata": {},
     "output_type": "execute_result"
    }
   ],
   "source": [
    "# Create new dataframe with only price and normalized continous variables\n",
    "cars_norm = pd.DataFrame(cars[\"price\"])\n",
    "cars_norm[pot_features] = (\n",
    "    cars[pot_features]-cars[pot_features].mean())/(cars[pot_features].std())\n",
    "cars_norm"
   ]
  },
  {
   "cell_type": "markdown",
   "id": "a1060094",
   "metadata": {},
   "source": [
    "# First Testing: Univariate KNN models"
   ]
  },
  {
   "cell_type": "code",
   "execution_count": 10,
   "id": "1e1b0e55",
   "metadata": {},
   "outputs": [],
   "source": [
    "def knn_train_test(train_cols, target_col, df, k=5, seed=42):\n",
    "    # randomize order and split into test & train\n",
    "    df_shuffled = df.sample(frac=1, random_state=seed).reset_index(drop=True)\n",
    "    break_row = int(df_shuffled.shape[0]/2)\n",
    "    train = df_shuffled[:break_row]\n",
    "    test = df_shuffled[break_row:]\n",
    "\n",
    "    # fit knn model and make predictions\n",
    "    knn_uni = knn(n_neighbors=k)\n",
    "    knn_uni.fit(train[train_cols], train[target_col])\n",
    "    pred = knn_uni.predict(test[train_cols])\n",
    "\n",
    "    # return rmse\n",
    "    mse_uni = mse(test[target_col], pred)\n",
    "    return (mse_uni**0.5)"
   ]
  },
  {
   "cell_type": "code",
   "execution_count": 11,
   "id": "181fcf53",
   "metadata": {},
   "outputs": [
    {
     "name": "stdout",
     "output_type": "stream",
     "text": [
      "RMSEs for a univariate KNN model (k=5):\n"
     ]
    },
    {
     "data": {
      "text/plain": [
       "engine-size          3343.067112\n",
       "width                4317.725730\n",
       "horsepower           4338.755163\n",
       "curb-weight          4627.953081\n",
       "city-mpg             4628.863100\n",
       "highway-mpg          4947.981408\n",
       "wheel-base           5117.013720\n",
       "length               5346.381096\n",
       "num-of-cylinders     5554.607126\n",
       "compression-ratio    5961.011942\n",
       "stroke               6562.409734\n",
       "bore                 6611.913500\n",
       "height               7156.104881\n",
       "peak-rpm             7355.058131\n",
       "dtype: float64"
      ]
     },
     "execution_count": 11,
     "metadata": {},
     "output_type": "execute_result"
    }
   ],
   "source": [
    "# Calculate RMSE for a univariate model for each potential feature\n",
    "rmses_dict = {}\n",
    "\n",
    "for feature in pot_features:\n",
    "    rmse = knn_train_test([feature], \"price\", cars_norm)\n",
    "    rmses_dict[feature] = rmse\n",
    "\n",
    "print(\"RMSEs for a univariate KNN model (k=5):\")\n",
    "rmses_df = pd.Series(rmses_dict)\n",
    "rmses_df.sort_values()"
   ]
  },
  {
   "cell_type": "markdown",
   "id": "e2b14807",
   "metadata": {},
   "source": [
    "Engine size, Car width, horsepower, weight and city-mpg seem to be promising features. In the next step I will test for the optimal k-values."
   ]
  },
  {
   "cell_type": "code",
   "execution_count": 12,
   "id": "53302b89",
   "metadata": {
    "scrolled": true
   },
   "outputs": [
    {
     "data": {
      "text/html": [
       "<div>\n",
       "<style scoped>\n",
       "    .dataframe tbody tr th:only-of-type {\n",
       "        vertical-align: middle;\n",
       "    }\n",
       "\n",
       "    .dataframe tbody tr th {\n",
       "        vertical-align: top;\n",
       "    }\n",
       "\n",
       "    .dataframe thead th {\n",
       "        text-align: right;\n",
       "    }\n",
       "</style>\n",
       "<table border=\"1\" class=\"dataframe\">\n",
       "  <thead>\n",
       "    <tr style=\"text-align: right;\">\n",
       "      <th></th>\n",
       "      <th>wheel-base</th>\n",
       "      <th>length</th>\n",
       "      <th>width</th>\n",
       "      <th>height</th>\n",
       "      <th>curb-weight</th>\n",
       "      <th>num-of-cylinders</th>\n",
       "      <th>engine-size</th>\n",
       "      <th>bore</th>\n",
       "      <th>stroke</th>\n",
       "      <th>compression-ratio</th>\n",
       "      <th>horsepower</th>\n",
       "      <th>peak-rpm</th>\n",
       "      <th>city-mpg</th>\n",
       "      <th>highway-mpg</th>\n",
       "    </tr>\n",
       "  </thead>\n",
       "  <tbody>\n",
       "    <tr>\n",
       "      <th>1</th>\n",
       "      <td>5408.802192</td>\n",
       "      <td>5955.663556</td>\n",
       "      <td>5710.846686</td>\n",
       "      <td>8542.804441</td>\n",
       "      <td>5532.879513</td>\n",
       "      <td>7762.218340</td>\n",
       "      <td>4622.929733</td>\n",
       "      <td>7731.580273</td>\n",
       "      <td>6616.277672</td>\n",
       "      <td>7393.181009</td>\n",
       "      <td>4815.435437</td>\n",
       "      <td>7945.809911</td>\n",
       "      <td>6046.892624</td>\n",
       "      <td>5749.036866</td>\n",
       "    </tr>\n",
       "    <tr>\n",
       "      <th>3</th>\n",
       "      <td>4893.831334</td>\n",
       "      <td>5593.558219</td>\n",
       "      <td>4278.316208</td>\n",
       "      <td>7184.392386</td>\n",
       "      <td>4725.396822</td>\n",
       "      <td>6235.968980</td>\n",
       "      <td>3326.007152</td>\n",
       "      <td>7036.116738</td>\n",
       "      <td>6425.993366</td>\n",
       "      <td>6640.639277</td>\n",
       "      <td>4629.919650</td>\n",
       "      <td>6984.015898</td>\n",
       "      <td>4824.806116</td>\n",
       "      <td>5191.625320</td>\n",
       "    </tr>\n",
       "    <tr>\n",
       "      <th>5</th>\n",
       "      <td>5117.013720</td>\n",
       "      <td>5346.381096</td>\n",
       "      <td>4317.725730</td>\n",
       "      <td>7156.104881</td>\n",
       "      <td>4627.953081</td>\n",
       "      <td>5554.607126</td>\n",
       "      <td>3343.067112</td>\n",
       "      <td>6611.913500</td>\n",
       "      <td>6562.409734</td>\n",
       "      <td>5961.011942</td>\n",
       "      <td>4338.755163</td>\n",
       "      <td>7355.058131</td>\n",
       "      <td>4628.863100</td>\n",
       "      <td>4947.981408</td>\n",
       "    </tr>\n",
       "    <tr>\n",
       "      <th>7</th>\n",
       "      <td>4980.859412</td>\n",
       "      <td>5376.114960</td>\n",
       "      <td>4316.333244</td>\n",
       "      <td>6777.830145</td>\n",
       "      <td>4669.973319</td>\n",
       "      <td>5278.256587</td>\n",
       "      <td>3509.792265</td>\n",
       "      <td>6110.098159</td>\n",
       "      <td>6532.427832</td>\n",
       "      <td>5730.524985</td>\n",
       "      <td>4353.659967</td>\n",
       "      <td>6950.483539</td>\n",
       "      <td>4724.826045</td>\n",
       "      <td>4173.813409</td>\n",
       "    </tr>\n",
       "    <tr>\n",
       "      <th>9</th>\n",
       "      <td>5091.605566</td>\n",
       "      <td>5110.958016</td>\n",
       "      <td>4460.503122</td>\n",
       "      <td>6935.120795</td>\n",
       "      <td>4472.886318</td>\n",
       "      <td>5340.881228</td>\n",
       "      <td>3427.313401</td>\n",
       "      <td>6154.729668</td>\n",
       "      <td>6440.456117</td>\n",
       "      <td>5733.067318</td>\n",
       "      <td>4308.495480</td>\n",
       "      <td>6770.178918</td>\n",
       "      <td>4503.988681</td>\n",
       "      <td>4498.259783</td>\n",
       "    </tr>\n",
       "  </tbody>\n",
       "</table>\n",
       "</div>"
      ],
      "text/plain": [
       "    wheel-base       length        width       height  curb-weight  \\\n",
       "1  5408.802192  5955.663556  5710.846686  8542.804441  5532.879513   \n",
       "3  4893.831334  5593.558219  4278.316208  7184.392386  4725.396822   \n",
       "5  5117.013720  5346.381096  4317.725730  7156.104881  4627.953081   \n",
       "7  4980.859412  5376.114960  4316.333244  6777.830145  4669.973319   \n",
       "9  5091.605566  5110.958016  4460.503122  6935.120795  4472.886318   \n",
       "\n",
       "   num-of-cylinders  engine-size         bore       stroke  compression-ratio  \\\n",
       "1       7762.218340  4622.929733  7731.580273  6616.277672        7393.181009   \n",
       "3       6235.968980  3326.007152  7036.116738  6425.993366        6640.639277   \n",
       "5       5554.607126  3343.067112  6611.913500  6562.409734        5961.011942   \n",
       "7       5278.256587  3509.792265  6110.098159  6532.427832        5730.524985   \n",
       "9       5340.881228  3427.313401  6154.729668  6440.456117        5733.067318   \n",
       "\n",
       "    horsepower     peak-rpm     city-mpg  highway-mpg  \n",
       "1  4815.435437  7945.809911  6046.892624  5749.036866  \n",
       "3  4629.919650  6984.015898  4824.806116  5191.625320  \n",
       "5  4338.755163  7355.058131  4628.863100  4947.981408  \n",
       "7  4353.659967  6950.483539  4724.826045  4173.813409  \n",
       "9  4308.495480  6770.178918  4503.988681  4498.259783  "
      ]
     },
     "execution_count": 12,
     "metadata": {},
     "output_type": "execute_result"
    }
   ],
   "source": [
    "# Calculate RMSE for a univariate model for each potential feature over different ks\n",
    "k_li = [1, 3, 5, 7, 9]\n",
    "\n",
    "rmses_dict = {}\n",
    "\n",
    "for feature, k in itertools.product(pot_features, k_li):\n",
    "    rmse = knn_train_test([feature], \"price\", cars_norm, k=k)\n",
    "    if feature not in rmses_dict:\n",
    "        rmses_dict[feature] = {k: rmse}\n",
    "    else:\n",
    "        rmses_dict[feature][k] = rmse\n",
    "\n",
    "# Store rmse values in rmses_df: one row per k, one column per feature\n",
    "rmses_df = pd.DataFrame.from_dict(rmses_dict)\n",
    "rmses_df"
   ]
  },
  {
   "cell_type": "markdown",
   "id": "14bf7f73",
   "metadata": {},
   "source": [
    "## Visualizing impact of k-values for univariate KNNs"
   ]
  },
  {
   "cell_type": "code",
   "execution_count": 13,
   "id": "2268b4c2",
   "metadata": {},
   "outputs": [
    {
     "data": {
      "image/png": "[encoded data removed]",
      "text/plain": [
       "<Figure size 720x576 with 1 Axes>"
      ]
     },
     "metadata": {
      "needs_background": "light"
     },
     "output_type": "display_data"
    }
   ],
   "source": [
    "# sort feature labels by average rmse (to have sorted legend)\n",
    "avg_rmse = rmses_df.mean().sort_values() # have smallest value on top for later processing\n",
    "sorted_labels = avg_rmse.sort_values(ascending=False).index # smallest value to bottom for legend\n",
    "\n",
    "rmses_df[sorted_labels].plot.line(figsize=(10, 8), fontsize=14)\n",
    "plt.legend(bbox_to_anchor=(1.01, 1), fontsize=14)\n",
    "plt.ylabel(\"RMSE\", fontsize=16)\n",
    "plt.xlabel(\"k\", fontsize=16)\n",
    "plt.show()"
   ]
  },
  {
   "cell_type": "markdown",
   "id": "46430ec3",
   "metadata": {},
   "source": [
    "# Multivariate KNN Model"
   ]
  },
  {
   "cell_type": "markdown",
   "id": "923ff44a",
   "metadata": {},
   "source": [
    "## Multivariate Model with top 5 features and k =  5\n",
    "avg_rmse is already sorted from best average rmse to worst so this df can be used to obtain the most promising features."
   ]
  },
  {
   "cell_type": "code",
   "execution_count": 14,
   "id": "497fb214",
   "metadata": {},
   "outputs": [],
   "source": [
    "# Fit multivariate models with 2,3,4,5 features and k=5\n",
    "\n",
    "top_5_features = list(avg_rmse[:5].index)\n",
    "n_features_li = range(2,6)\n",
    "\n",
    "rmses_mult_dict = {}\n",
    "\n",
    "for n in n_features_li:\n",
    "    features = top_5_features[:n]\n",
    "    rmse = knn_train_test(features, \"price\", cars_norm)\n",
    "    rmses_mult_dict[\", \".join(features)] = rmse"
   ]
  },
  {
   "cell_type": "code",
   "execution_count": 15,
   "id": "8c6c29cc",
   "metadata": {},
   "outputs": [
    {
     "name": "stdout",
     "output_type": "stream",
     "text": [
      "RMSEs for multivarate KNN model (k=5):\n"
     ]
    },
    {
     "data": {
      "text/plain": [
       "engine-size, horsepower                                     3434.320792\n",
       "engine-size, horsepower, width                              3212.526338\n",
       "engine-size, horsepower, width, curb-weight                 3124.957863\n",
       "engine-size, horsepower, width, curb-weight, highway-mpg    3081.056893\n",
       "dtype: float64"
      ]
     },
     "execution_count": 15,
     "metadata": {},
     "output_type": "execute_result"
    }
   ],
   "source": [
    "print(\"RMSEs for multivarate KNN model (k=5):\")\n",
    "rmses_mult_df = pd.Series(rmses_mult_dict)\n",
    "rmses_mult_df.sort_index()"
   ]
  },
  {
   "cell_type": "markdown",
   "id": "9f6486af",
   "metadata": {},
   "source": [
    "## Hyperparameter Tuning for the Top 3 Models"
   ]
  },
  {
   "cell_type": "code",
   "execution_count": 16,
   "id": "544f76e2",
   "metadata": {},
   "outputs": [
    {
     "data": {
      "text/html": [
       "<div>\n",
       "<style scoped>\n",
       "    .dataframe tbody tr th:only-of-type {\n",
       "        vertical-align: middle;\n",
       "    }\n",
       "\n",
       "    .dataframe tbody tr th {\n",
       "        vertical-align: top;\n",
       "    }\n",
       "\n",
       "    .dataframe thead th {\n",
       "        text-align: right;\n",
       "    }\n",
       "</style>\n",
       "<table border=\"1\" class=\"dataframe\">\n",
       "  <thead>\n",
       "    <tr style=\"text-align: right;\">\n",
       "      <th></th>\n",
       "      <th>engine-size, horsepower, width</th>\n",
       "      <th>engine-size, horsepower, width, curb-weight</th>\n",
       "      <th>engine-size, horsepower, width, curb-weight, highway-mpg</th>\n",
       "    </tr>\n",
       "  </thead>\n",
       "  <tbody>\n",
       "    <tr>\n",
       "      <th>1</th>\n",
       "      <td>3875.085763</td>\n",
       "      <td>3792.549401</td>\n",
       "      <td>3713.132294</td>\n",
       "    </tr>\n",
       "    <tr>\n",
       "      <th>2</th>\n",
       "      <td>3031.632089</td>\n",
       "      <td>3007.205008</td>\n",
       "      <td>2856.739313</td>\n",
       "    </tr>\n",
       "    <tr>\n",
       "      <th>3</th>\n",
       "      <td>2944.809803</td>\n",
       "      <td>2849.552895</td>\n",
       "      <td>2889.856253</td>\n",
       "    </tr>\n",
       "  </tbody>\n",
       "</table>\n",
       "</div>"
      ],
      "text/plain": [
       "   engine-size, horsepower, width  \\\n",
       "1                     3875.085763   \n",
       "2                     3031.632089   \n",
       "3                     2944.809803   \n",
       "\n",
       "   engine-size, horsepower, width, curb-weight  \\\n",
       "1                                  3792.549401   \n",
       "2                                  3007.205008   \n",
       "3                                  2849.552895   \n",
       "\n",
       "   engine-size, horsepower, width, curb-weight, highway-mpg  \n",
       "1                                        3713.132294         \n",
       "2                                        2856.739313         \n",
       "3                                        2889.856253         "
      ]
     },
     "execution_count": 16,
     "metadata": {},
     "output_type": "execute_result"
    }
   ],
   "source": [
    "k_list = range(1,26)\n",
    "# The top 3 models had 3-5 features so just update number of features\n",
    "n_features_li = range(3,6)\n",
    "\n",
    "rmses_mult_dict = {}\n",
    "\n",
    "for n, k in itertools.product(n_features_li, k_list):\n",
    "    features = top_5_features[:n]\n",
    "    rmse = knn_train_test(features, \"price\", cars_norm, k=k)\n",
    "    dict_key = \", \".join(features)\n",
    "    if dict_key not in rmses_mult_dict:\n",
    "        rmses_mult_dict[dict_key] = {k: rmse}\n",
    "    else:\n",
    "        rmses_mult_dict[dict_key][k] = rmse\n",
    "\n",
    "# Store rmse values in rmses_df: one row per k, one column per model\n",
    "rmses_mult_df = pd.DataFrame.from_dict(rmses_mult_dict)\n",
    "rmses_mult_df.head(3)"
   ]
  },
  {
   "cell_type": "markdown",
   "id": "ab6eb263",
   "metadata": {},
   "source": [
    "## Visualizing impact of k-values for multivariate KNNs"
   ]
  },
  {
   "cell_type": "code",
   "execution_count": 17,
   "id": "663af7a1",
   "metadata": {},
   "outputs": [
    {
     "data": {
      "image/png": "[encoded data removed]",
      "text/plain": [
       "<Figure size 1080x576 with 1 Axes>"
      ]
     },
     "metadata": {
      "needs_background": "light"
     },
     "output_type": "display_data"
    }
   ],
   "source": [
    "# sort models by average rmse (to have sorted legend)\n",
    "avg_mult_rmse = rmses_mult_df.mean().sort_values() # have smallest value on top for later processing\n",
    "sorted_mult_labels = avg_mult_rmse.sort_values(ascending=False).index # smallest value to bottom for legend\n",
    "\n",
    "rmses_mult_df[sorted_mult_labels].plot.line(figsize=(15, 8), fontsize=14)\n",
    "plt.legend(fontsize=14, loc = \"upper center\")\n",
    "plt.ylabel(\"RMSE\", fontsize=16)\n",
    "plt.xlabel(\"k\", fontsize=16)\n",
    "plt.xticks(range(1, 26))\n",
    "plt.show()"
   ]
  },
  {
   "cell_type": "markdown",
   "id": "b70002f1",
   "metadata": {},
   "source": [
    "It is already clear, that k-values in of 2 or 3 seem ideal for these multivariate models. A 5-feature model with k=2 seems to be perform about equally than a 4-feature model with k=3. To determine the final model we will obtain the precise minimum RMSE values for each model."
   ]
  },
  {
   "cell_type": "code",
   "execution_count": 18,
   "id": "bd5bf86b",
   "metadata": {},
   "outputs": [
    {
     "name": "stdout",
     "output_type": "stream",
     "text": [
      "Model with engine-size, horsepower, width:\n",
      "Minimum RMSE: 2944.81, Optimum k: 3\n",
      "\n",
      "Model with engine-size, horsepower, width, curb-weight:\n",
      "Minimum RMSE: 2849.55, Optimum k: 3\n",
      "\n",
      "Model with engine-size, horsepower, width, curb-weight, highway-mpg:\n",
      "Minimum RMSE: 2856.74, Optimum k: 2\n",
      "\n"
     ]
    }
   ],
   "source": [
    "min_rmse = rmses_mult_df.min()\n",
    "optimal_k = rmses_mult_df.idxmin()\n",
    "\n",
    "for model_name in rmses_mult_df.columns:\n",
    "    print(\"Model with {}:\".format(model_name))\n",
    "    print(\"Minimum RMSE: {:.2f}, Optimum k: {}\\n\".format(min_rmse[model_name], optimal_k[model_name]))"
   ]
  },
  {
   "cell_type": "markdown",
   "id": "c3886e7d",
   "metadata": {},
   "source": [
    "# Conclusion\n",
    "The KNN with the most precise prediction contains the features horsepower, width and curb-weight and uses a k-value of 3. This predicted the market price of each car to an RMSE of 2849.55."
   ]
  },
  {
   "cell_type": "markdown",
   "id": "9b2d3a89",
   "metadata": {},
   "source": [
    "# Ideas for refinement\n",
    "* Use k-fold cross validation instead of test/train validation."
   ]
  }
 ],
 "metadata": {
  "kernelspec": {
   "display_name": "Python 3",
   "language": "python",
   "name": "python3"
  },
  "language_info": {
   "codemirror_mode": {
    "name": "ipython",
    "version": 3
   },
   "file_extension": ".py",
   "mimetype": "text/x-python",
   "name": "python",
   "nbconvert_exporter": "python",
   "pygments_lexer": "ipython3",
   "version": "3.8.10"
  },
  "toc": {
   "base_numbering": 1,
   "nav_menu": {},
   "number_sections": false,
   "sideBar": true,
   "skip_h1_title": false,
   "title_cell": "Table of Contents",
   "title_sidebar": "Contents",
   "toc_cell": false,
   "toc_position": {},
   "toc_section_display": true,
   "toc_window_display": false
  },
  "varInspector": {
   "cols": {
    "lenName": 16,
    "lenType": 16,
    "lenVar": 40
   },
   "kernels_config": {
    "python": {
     "delete_cmd_postfix": "",
     "delete_cmd_prefix": "del ",
     "library": "var_list.py",
     "varRefreshCmd": "print(var_dic_list())"
    },
    "r": {
     "delete_cmd_postfix": ") ",
     "delete_cmd_prefix": "rm(",
     "library": "var_list.r",
     "varRefreshCmd": "cat(var_dic_list()) "
    }
   },
   "types_to_exclude": [
    "module",
    "function",
    "builtin_function_or_method",
    "instance",
    "_Feature"
   ],
   "window_display": false
  }
 },
 "nbformat": 4,
 "nbformat_minor": 5
}
